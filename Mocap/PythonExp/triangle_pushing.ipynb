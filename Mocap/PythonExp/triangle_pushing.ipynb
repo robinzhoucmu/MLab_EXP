{
 "cells": [
  {
   "cell_type": "code",
   "execution_count": 1,
   "metadata": {
    "collapsed": true
   },
   "outputs": [],
   "source": [
    "import sys\n",
    "import time\n",
    "import subprocess\n",
    "import signal\n",
    "import os\n",
    "import rospy\n",
    "\n",
    "import roslib\n",
    "roslib.load_manifest(\"robot_comm\")\n",
    "from robot_comm.srv import *\n",
    "\n"
   ]
  },
  {
   "cell_type": "code",
   "execution_count": 2,
   "metadata": {
    "collapsed": false
   },
   "outputs": [
    {
     "data": {
      "text/plain": [
       "x: 458.85\n",
       "y: 302.19\n",
       "z: 294.98\n",
       "q0: 0.0058\n",
       "qx: -0.729\n",
       "qy: -0.6844\n",
       "qz: -0.0129\n",
       "ret: 1\n",
       "msg: ROBOT_CONTROLLER: OK."
      ]
     },
     "execution_count": 2,
     "metadata": {},
     "output_type": "execute_result"
    }
   ],
   "source": [
    "get_cart = rospy.ServiceProxy('/robot_GetCartesian', robot_GetCartesian)\n",
    "get_cart()"
   ]
  },
  {
   "cell_type": "code",
   "execution_count": 3,
   "metadata": {
    "collapsed": true
   },
   "outputs": [],
   "source": [
    "set_cart = rospy.ServiceProxy('/robot_SetCartesian', robot_SetCartesian)"
   ]
  },
  {
   "cell_type": "code",
   "execution_count": 7,
   "metadata": {
    "collapsed": false
   },
   "outputs": [
    {
     "data": {
      "text/plain": [
       "ret: 1\n",
       "msg: ROBOT_CONTROLLER: OK."
      ]
     },
     "execution_count": 7,
     "metadata": {},
     "output_type": "execute_result"
    }
   ],
   "source": [
    "set_cart(500,350,300,0,0.707,0.707,0)"
   ]
  },
  {
   "cell_type": "code",
   "execution_count": 9,
   "metadata": {
    "collapsed": true
   },
   "outputs": [],
   "source": [
    "set_work_object = rospy.ServiceProxy('/robot_SetWorkObject', robot_SetWorkObject)\n",
    "set_tool = rospy.ServiceProxy('/robot_SetTool', robot_SetTool)"
   ]
  },
  {
   "cell_type": "code",
   "execution_count": 10,
   "metadata": {
    "collapsed": false
   },
   "outputs": [
    {
     "data": {
      "text/plain": [
       "ret: 1\n",
       "msg: ROBOT_CONTROLLER: OK."
      ]
     },
     "execution_count": 10,
     "metadata": {},
     "output_type": "execute_result"
    }
   ],
   "source": [
    "set_work_object(0,0,0,1,0,0,0)\n",
    "set_tool(0,0,150, 1, 0, 0, 0)"
   ]
  },
  {
   "cell_type": "code",
   "execution_count": 12,
   "metadata": {
    "collapsed": false
   },
   "outputs": [
    {
     "data": {
      "text/plain": [
       "x: 460.32\n",
       "y: -111.95\n",
       "z: 255.46\n",
       "q0: 0.0\n",
       "qx: -0.0017\n",
       "qy: -1.0\n",
       "qz: -0.0004\n",
       "ret: 1\n",
       "msg: ROBOT_CONTROLLER: OK."
      ]
     },
     "execution_count": 12,
     "metadata": {},
     "output_type": "execute_result"
    }
   ],
   "source": [
    "get_cart()"
   ]
  },
  {
   "cell_type": "code",
   "execution_count": 13,
   "metadata": {
    "collapsed": false
   },
   "outputs": [
    {
     "data": {
      "text/plain": [
       "ret: 1\n",
       "msg: ROBOT_CONTROLLER: OK."
      ]
     },
     "execution_count": 13,
     "metadata": {},
     "output_type": "execute_result"
    }
   ],
   "source": [
    "set_cart(500, 0, 150, 0, 0, 1, 0)"
   ]
  },
  {
   "cell_type": "code",
   "execution_count": 17,
   "metadata": {
    "collapsed": false
   },
   "outputs": [
    {
     "data": {
      "text/plain": [
       "ret: 1\n",
       "msg: ROBOT_CONTROLLER: OK."
      ]
     },
     "execution_count": 17,
     "metadata": {},
     "output_type": "execute_result"
    }
   ],
   "source": [
    "set_cart(500, 0, 40, 0, 0, 1, 0)"
   ]
  },
  {
   "cell_type": "code",
   "execution_count": null,
   "metadata": {
    "collapsed": true
   },
   "outputs": [],
   "source": []
  }
 ],
 "metadata": {
  "kernelspec": {
   "display_name": "Python 2",
   "language": "python",
   "name": "python2"
  },
  "language_info": {
   "codemirror_mode": {
    "name": "ipython",
    "version": 2
   },
   "file_extension": ".py",
   "mimetype": "text/x-python",
   "name": "python",
   "nbconvert_exporter": "python",
   "pygments_lexer": "ipython2",
   "version": "2.7.3"
  }
 },
 "nbformat": 4,
 "nbformat_minor": 0
}
