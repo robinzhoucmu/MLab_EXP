{
 "cells": [
  {
   "cell_type": "code",
   "execution_count": 355,
   "metadata": {
    "collapsed": true
   },
   "outputs": [],
   "source": [
    "import sys\n",
    "import time\n",
    "import subprocess\n",
    "import signal\n",
    "import os\n",
    "import math\n",
    "import rospy\n",
    "import rosbag\n",
    "import roslib\n",
    "roslib.load_manifest(\"robot_comm\")\n",
    "from robot_comm.srv import *\n",
    "roslib.load_manifest(\"Mocap\")\n",
    "from Mocap.msg import *\n",
    "from Mocap.srv import *\n",
    "import numpy as np"
   ]
  },
  {
   "cell_type": "code",
   "execution_count": 356,
   "metadata": {
    "collapsed": false
   },
   "outputs": [
    {
     "data": {
      "text/plain": [
       "x: 611.62\n",
       "y: 435.75\n",
       "z: 298.72\n",
       "q0: 0.0004\n",
       "qx: -0.7058\n",
       "qy: -0.7084\n",
       "qz: 0.0004\n",
       "ret: 1\n",
       "msg: ROBOT_CONTROLLER: OK."
      ]
     },
     "execution_count": 356,
     "metadata": {},
     "output_type": "execute_result"
    }
   ],
   "source": [
    "get_cart = rospy.ServiceProxy('/robot_GetCartesian', robot_GetCartesian)\n",
    "set_work_object = rospy.ServiceProxy('/robot_SetWorkObject', robot_SetWorkObject)\n",
    "set_tool = rospy.ServiceProxy('/robot_SetTool', robot_SetTool)\n",
    "set_cart = rospy.ServiceProxy('/robot_SetCartesian', robot_SetCartesian)\n",
    "#Set Speed\n",
    "set_speed = rospy.ServiceProxy('/robot_SetSpeed', robot_SetSpeed)\n",
    "set_speed(10, 5)\n",
    "get_cart()"
   ]
  },
  {
   "cell_type": "code",
   "execution_count": 357,
   "metadata": {
    "collapsed": false
   },
   "outputs": [],
   "source": [
    "set_mocap_tf = rospy.ServiceProxy('/mocap_SetMocapTransformation', mocap_SetMocapTransformation)\n",
    "#set_mocap_tf(666.06, -256.24, 55.61, 0.4922, 0.49687, 0.50185, 0.50893)\n",
    "#set_mocap_tf(666.16, -256.27, 55.682, 0.49236, 0.49671, 0.50187, 0.50891)\n",
    "set_mocap_tf(668.54, -260.52, 56.021, 0.49366, 0.49611, 0.50222, 0.50788)\n",
    "get_mocap_frame = rospy.ServiceProxy('/mocap_GetMocapFrame', mocap_GetMocapFrame)"
   ]
  },
  {
   "cell_type": "code",
   "execution_count": 361,
   "metadata": {
    "collapsed": false
   },
   "outputs": [
    {
     "data": {
      "text/plain": [
       "mf: \n",
       "  header: \n",
       "    seq: 0\n",
       "    stamp: \n",
       "      secs: 1435534323\n",
       "      nsecs: 723603061\n",
       "    frame_id: ''\n",
       "  number: 0\n",
       "  body_poses: \n",
       "    - \n",
       "      position: \n",
       "        x: 528.757469199\n",
       "        y: -6.80080365991\n",
       "        z: 45.2287401263\n",
       "      orientation: \n",
       "        x: 0.300642320697\n",
       "        y: 0.635914438094\n",
       "        z: 0.637346032424\n",
       "        w: 0.314656298086\n",
       "  uid_markers: \n",
       "    markers: \n",
       "      - \n",
       "        x: 508.782899253\n",
       "        y: 20.262938234\n",
       "        z: 46.3141539341\n",
       "      - \n",
       "        x: 513.558035291\n",
       "        y: -19.1137189706\n",
       "        z: 46.033033762\n",
       "      - \n",
       "        x: 534.19698005\n",
       "        y: -10.6241021869\n",
       "        z: 45.3271757493\n",
       "      - \n",
       "        x: 558.492563078\n",
       "        y: -17.3683924654\n",
       "        z: 46.8091925996\n",
       "  id_marker_sets: \n",
       "    - \n",
       "      markers: \n",
       "        - \n",
       "          x: 508.751215807\n",
       "          y: 20.3087536706\n",
       "          z: 46.3157019833\n",
       "        - \n",
       "          x: 513.580022143\n",
       "          y: -19.1265782548\n",
       "          z: 46.0344851867\n",
       "        - \n",
       "          x: 534.570077159\n",
       "          y: -10.7999228692\n",
       "          z: 45.3303411589\n",
       "        - \n",
       "          x: 558.328886191\n",
       "          y: -17.3387908455\n",
       "          z: 46.8027161403\n",
       "ret: 1\n",
       "msg: OK."
      ]
     },
     "execution_count": 361,
     "metadata": {},
     "output_type": "execute_result"
    }
   ],
   "source": [
    "get_mocap_frame()"
   ]
  },
  {
   "cell_type": "code",
   "execution_count": 359,
   "metadata": {
    "collapsed": false
   },
   "outputs": [
    {
     "data": {
      "text/plain": [
       "x: 500.0\n",
       "y: 0.0\n",
       "z: 290.0\n",
       "q0: 1.0\n",
       "qx: 0.0\n",
       "qy: 0.0\n",
       "qz: 0.0\n",
       "ret: 1\n",
       "msg: ROBOT_CONTROLLER: OK."
      ]
     },
     "execution_count": 359,
     "metadata": {},
     "output_type": "execute_result"
    }
   ],
   "source": [
    "set_work_object(0,0,0,1,0,0,0)\n",
    "set_tool(-125,0,115, 0, 0, 1, 0)\n",
    "get_cart()"
   ]
  },
  {
   "cell_type": "code",
   "execution_count": 375,
   "metadata": {
    "collapsed": false
   },
   "outputs": [
    {
     "data": {
      "text/plain": [
       "ret: 1\n",
       "msg: ROBOT_CONTROLLER: OK."
      ]
     },
     "execution_count": 375,
     "metadata": {},
     "output_type": "execute_result"
    }
   ],
   "source": [
    "# Set to pre-push position.\n",
    "set_speed(10,5)\n",
    "set_cart(500, 0, 25, 1, 0, 0, 0)\n",
    "set_speed(5,5)"
   ]
  },
  {
   "cell_type": "code",
   "execution_count": 372,
   "metadata": {
    "collapsed": false
   },
   "outputs": [
    {
     "data": {
      "text/plain": [
       "x: 500.0\n",
       "y: 0.0\n",
       "z: 25.0\n",
       "q0: 1.0\n",
       "qx: 0.0\n",
       "qy: 0.0\n",
       "qz: 0.0\n",
       "ret: 1\n",
       "msg: ROBOT_CONTROLLER: OK."
      ]
     },
     "execution_count": 372,
     "metadata": {},
     "output_type": "execute_result"
    }
   ],
   "source": [
    "get_cart()"
   ]
  },
  {
   "cell_type": "code",
   "execution_count": 321,
   "metadata": {
    "collapsed": false
   },
   "outputs": [
    {
     "data": {
      "text/plain": [
       "array([ 499.99,    0.  ,   15.  ])"
      ]
     },
     "execution_count": 321,
     "metadata": {},
     "output_type": "execute_result"
    }
   ],
   "source": [
    "# Set push end position. +x for 50 mm. \n",
    "# set_cart(550,0,15,1,0,0,0)\n",
    "# rosbag command\n",
    "# rosbag record -O bags/robot_push_many.bag /Mocap /netft_data /robot_CartesianLog\n",
    "#np.random.uniform(0,1,(3,1))\n",
    "cur_robot_pos"
   ]
  },
  {
   "cell_type": "code",
   "execution_count": 376,
   "metadata": {
    "collapsed": false
   },
   "outputs": [],
   "source": [
    "np.random.seed(10)\n",
    "dir = np.array([[1, 0, 0],[0, -1, 0],[0, 1, 0]]).transpose()\n",
    "num_pushes = 10\n",
    "dist_push = 30 # mm\n",
    "for i in range(0,num_pushes):\n",
    "    #c = np.random.rand(3,1)\n",
    "    c = np.random.uniform(0,1,(3,1))\n",
    "    c = c / c.sum()\n",
    "    rand_disp = dir.dot(np.random.rand(3,1))\n",
    "    #print rand_disp\n",
    "    r_cart = get_cart()\n",
    "    cur_robot_pos = np.array([r_cart.x, r_cart.y, r_cart.z])\n",
    "    nxt_robot_pos = cur_robot_pos + dist_push * rand_disp.transpose()\n",
    "    #Sample a random angle between -theta to theta.\n",
    "    angle = np.random.uniform(-np.pi/12,np.pi/12)\n",
    "    if (nxt_robot_pos[0,2] > 24.99  and cur_robot_pos[2] > 24.99): \n",
    "        set_cart(cur_robot_pos[0], cur_robot_pos[1], cur_robot_pos[2], np.cos(angle), 0, 0, np.sin(angle))\n",
    "        time.sleep(0.75)\n",
    "        set_cart(nxt_robot_pos[0,0], nxt_robot_pos[0,1], nxt_robot_pos[0,2], np.cos(angle), 0, 0, np.sin(angle))\n",
    "    #print get_cart()\n",
    "    time.sleep(0.75)\n",
    "    #back up a little bit. \n",
    "    r_cart = get_cart()\n",
    "    cur_robot_pos = np.array([r_cart.x, r_cart.y, r_cart.z])\n",
    "    nxt_robot_pos = cur_robot_pos - 2 * rand_disp.transpose()\n",
    "    #if (nxt_robot_pos[0,2] > 14.99):\n",
    "    #    set_cart(nxt_robot_pos[0,0], nxt_robot_pos[0,1], nxt_robot_pos[0,2], np.cos(angle), 0, 0, np.sin(angle))\n",
    "        #set_cart(nxt_robot_pos[0,0], nxt_robot_pos[0,1], nxt_robot_pos[0,2], 1, 0, 0, 0)"
   ]
  },
  {
   "cell_type": "code",
   "execution_count": 304,
   "metadata": {
    "collapsed": false
   },
   "outputs": [
    {
     "data": {
      "text/plain": [
       "10"
      ]
     },
     "execution_count": 304,
     "metadata": {},
     "output_type": "execute_result"
    }
   ],
   "source": [
    "np.random.uniform(-np.pi/4,np.pi/4)\n",
    "num_pushes"
   ]
  },
  {
   "cell_type": "code",
   "execution_count": 116,
   "metadata": {
    "collapsed": false
   },
   "outputs": [
    {
     "data": {
      "text/plain": [
       "'/home/jiaji/MLab_EXP/Mocap/PythonExp'"
      ]
     },
     "execution_count": 116,
     "metadata": {},
     "output_type": "execute_result"
    }
   ],
   "source": [
    "os.getcwd()"
   ]
  },
  {
   "cell_type": "code",
   "execution_count": 377,
   "metadata": {
    "collapsed": false
   },
   "outputs": [],
   "source": [
    "f1 = open(\"exp4/pos3.txt\", \"w\");\n",
    "f2 = open(\"exp4/force3.txt\", \"w\");\n",
    "f3 = open(\"exp4/robot3.txt\", \"w\");\n",
    "bag = rosbag.Bag('bags/robot_multi_push_3out_3.bag')\n",
    "last_topic = '/netft_data'\n",
    "ct = 0\n",
    "last_pos_x = 0\n",
    "last_pos_y = 0\n",
    "pose = geometry_msgs.msg.Pose()\n",
    "force = geometry_msgs.msg.Wrench.force\n",
    "for topic, msg, t in bag.read_messages(topics=['/Mocap', '/netft_data', '/robot_CartesianLog']):\n",
    "    s = str(t.to_sec()) + '\\n'\n",
    "    if topic == '/Mocap':\n",
    "        pos = msg.body_poses[0].position\n",
    "        ori = msg.body_poses[0].orientation    \n",
    "        s = s + str(pos.x) + ' ' + str(pos.y) + ' ' + str(pos.z) + ' '\n",
    "        #Use q0/qw,qx,qy,qz convention.\n",
    "        s = s + str(ori.w) + ' ' + str(ori.x) + ' ' + str(ori.y) + ' ' + str(ori.z)\n",
    "        s = s + '\\n'\n",
    "        f1.write(s);  \n",
    "    if topic == '/netft_data':\n",
    "        force = msg.wrench.force\n",
    "        s = s + str(force.x) + ' ' + str(force.y) + ' ' + str(force.z)\n",
    "        s = s + '\\n'\n",
    "        f2.write(s)\n",
    "    if topic == '/robot_CartesianLog':\n",
    "        robot_cart = msg\n",
    "        s = s + str(robot_cart.x) + ' ' + str(robot_cart.y) + ' ' + str(robot_cart.z) + ' '\n",
    "        s = s + str(robot_cart.q0) + ' ' + str(robot_cart.qx) + ' ' + str(robot_cart.qy) + ' ' + str(robot_cart.qz)\n",
    "        s = s + '\\n'\n",
    "        f3.write(s)\n",
    "bag.close()\n",
    "f1.close()\n",
    "f2.close()\n",
    "f3.close()"
   ]
  },
  {
   "cell_type": "code",
   "execution_count": 278,
   "metadata": {
    "collapsed": false
   },
   "outputs": [
    {
     "data": {
      "text/plain": [
       "ret: 1\n",
       "msg: ROBOT_CONTROLLER: OK."
      ]
     },
     "execution_count": 278,
     "metadata": {},
     "output_type": "execute_result"
    }
   ],
   "source": [
    "set_cart(575,0,290,np.sqrt(2)/2,0,0,np.sqrt(2)/2)  # Point to the left. +y"
   ]
  },
  {
   "cell_type": "code",
   "execution_count": 281,
   "metadata": {
    "collapsed": false
   },
   "outputs": [
    {
     "data": {
      "text/plain": [
       "ret: 1\n",
       "msg: ROBOT_CONTROLLER: OK."
      ]
     },
     "execution_count": 281,
     "metadata": {},
     "output_type": "execute_result"
    }
   ],
   "source": [
    "set_cart(575,0,290,np.sqrt(2)/2,0,0,-np.sqrt(2)/2) # Point to the right. -y\n"
   ]
  },
  {
   "cell_type": "code",
   "execution_count": 354,
   "metadata": {
    "collapsed": false
   },
   "outputs": [
    {
     "data": {
      "text/plain": [
       "ret: 1\n",
       "msg: ROBOT_CONTROLLER: OK."
      ]
     },
     "execution_count": 354,
     "metadata": {},
     "output_type": "execute_result"
    }
   ],
   "source": [
    "set_cart(500,0,290,1,0,0,0)  # Point to the left. +y"
   ]
  },
  {
   "cell_type": "code",
   "execution_count": 11,
   "metadata": {
    "collapsed": false
   },
   "outputs": [],
   "source": [
    "# Just dump the raw mocap body data.\n",
    "f1 = open(\"mocap_pos_5.txt\", \"w\")\n",
    "bag = rosbag.Bag('test_human_push_5.bag')\n",
    "for topic, msg, t in bag.read_messages(topics=['/Mocap']):\n",
    "    if topic == '/Mocap':\n",
    "        pos = msg.body_poses[0].position\n",
    "        ori = msg.body_poses[0].orientation\n",
    "        s = str(t.to_sec()) + '\\n'\n",
    "        s = s + str(pos.x) + ' ' + str(pos.y) + ' ' + str(pos.z) + ' '\n",
    "        s = s + str(ori.w) + ' ' + str(ori.x) + ' ' + str(ori.y) + ' ' + str(ori.z)\n",
    "        s = s + '\\n'\n",
    "        f1.write(s);\n",
    "f1.close()"
   ]
  },
  {
   "cell_type": "code",
   "execution_count": 86,
   "metadata": {
    "collapsed": false
   },
   "outputs": [
    {
     "data": {
      "text/plain": [
       "1430178331.7931406"
      ]
     },
     "execution_count": 86,
     "metadata": {},
     "output_type": "execute_result"
    }
   ],
   "source": [
    "t.to_sec()"
   ]
  },
  {
   "cell_type": "code",
   "execution_count": 122,
   "metadata": {
    "collapsed": true
   },
   "outputs": [],
   "source": [
    "set_tool(-100, 0, 110, 0, 0, 1, 0);\n"
   ]
  },
  {
   "cell_type": "code",
   "execution_count": 121,
   "metadata": {
    "collapsed": false,
    "scrolled": true
   },
   "outputs": [
    {
     "data": {
      "text/plain": [
       "x: 549.99\n",
       "y: -99.97\n",
       "z: 375.0\n",
       "q0: 0.0\n",
       "qx: -0.7071\n",
       "qy: 0.7071\n",
       "qz: 0.0001\n",
       "ret: 1\n",
       "msg: ROBOT_CONTROLLER: OK."
      ]
     },
     "execution_count": 121,
     "metadata": {},
     "output_type": "execute_result"
    }
   ],
   "source": [
    "set_cart(550, -100, 375, 1, 0, 0, 0)"
   ]
  },
  {
   "cell_type": "code",
   "execution_count": 123,
   "metadata": {
    "collapsed": true
   },
   "outputs": [],
   "source": [
    "get_joints = rospy.ServiceProxy('/robot_GetJoints', robot_GetJoints)"
   ]
  },
  {
   "cell_type": "code",
   "execution_count": 124,
   "metadata": {
    "collapsed": false
   },
   "outputs": [
    {
     "data": {
      "text/plain": [
       "j1: 0.0\n",
       "j2: 20.55\n",
       "j3: 0.92\n",
       "j4: 0.01\n",
       "j5: 68.54\n",
       "j6: 90.0\n",
       "ret: 1\n",
       "msg: ROBOT_CONTROLLER: OK."
      ]
     },
     "execution_count": 124,
     "metadata": {},
     "output_type": "execute_result"
    }
   ],
   "source": [
    "get_joints()"
   ]
  },
  {
   "cell_type": "code",
   "execution_count": null,
   "metadata": {
    "collapsed": true
   },
   "outputs": [],
   "source": []
  }
 ],
 "metadata": {
  "kernelspec": {
   "display_name": "Python 2",
   "language": "python",
   "name": "python2"
  },
  "language_info": {
   "codemirror_mode": {
    "name": "ipython",
    "version": 2
   },
   "file_extension": ".py",
   "mimetype": "text/x-python",
   "name": "python",
   "nbconvert_exporter": "python",
   "pygments_lexer": "ipython2",
   "version": "2.7.3"
  }
 },
 "nbformat": 4,
 "nbformat_minor": 0
}
