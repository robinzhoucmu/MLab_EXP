{
 "cells": [
  {
   "cell_type": "code",
   "execution_count": 1,
   "metadata": {
    "collapsed": true
   },
   "outputs": [],
   "source": [
    "import sys\n",
    "import time\n",
    "import subprocess\n",
    "import signal\n",
    "import os\n",
    "import math\n",
    "import rospy\n",
    "import rosbag\n",
    "import roslib\n",
    "roslib.load_manifest(\"robot_comm\")\n",
    "from robot_comm.srv import *\n",
    "roslib.load_manifest(\"Mocap\")\n",
    "from Mocap.msg import *\n",
    "from Mocap.srv import *"
   ]
  },
  {
   "cell_type": "code",
   "execution_count": 2,
   "metadata": {
    "collapsed": false
   },
   "outputs": [
    {
     "data": {
      "text/plain": [
       "x: 611.78\n",
       "y: 310.74\n",
       "z: 29.42\n",
       "q0: 0.0004\n",
       "qx: -0.7058\n",
       "qy: -0.7084\n",
       "qz: 0.0004\n",
       "ret: 1\n",
       "msg: ROBOT_CONTROLLER: OK."
      ]
     },
     "execution_count": 2,
     "metadata": {},
     "output_type": "execute_result"
    }
   ],
   "source": [
    "get_cart = rospy.ServiceProxy('/robot_GetCartesian', robot_GetCartesian)\n",
    "set_work_object = rospy.ServiceProxy('/robot_SetWorkObject', robot_SetWorkObject)\n",
    "set_tool = rospy.ServiceProxy('/robot_SetTool', robot_SetTool)\n",
    "set_cart = rospy.ServiceProxy('/robot_SetCartesian', robot_SetCartesian)\n",
    "#Set Speed\n",
    "set_speed = rospy.ServiceProxy('/robot_SetSpeed', robot_SetSpeed)\n",
    "set_speed(50, 5)\n",
    "get_cart()"
   ]
  },
  {
   "cell_type": "code",
   "execution_count": 3,
   "metadata": {
    "collapsed": false
   },
   "outputs": [],
   "source": [
    "set_mocap_tf = rospy.ServiceProxy('/mocap_SetMocapTransformation', mocap_SetMocapTransformation)\n",
    "set_mocap_tf(686.48, -281.16, 62.547, 0.5053, 0.50804, 0.50412, 0.48212)\n",
    "get_mocap_frame = rospy.ServiceProxy('/mocap_GetMocapFrame', mocap_GetMocapFrame)"
   ]
  },
  {
   "cell_type": "code",
   "execution_count": 4,
   "metadata": {
    "collapsed": false
   },
   "outputs": [
    {
     "data": {
      "text/plain": [
       "mf: \n",
       "  header: \n",
       "    seq: 0\n",
       "    stamp: \n",
       "      secs: 1430527428\n",
       "      nsecs: 450898811\n",
       "    frame_id: ''\n",
       "  number: 0\n",
       "  body_poses: \n",
       "    - \n",
       "      position: \n",
       "        x: 687.452239953\n",
       "        y: 241.931905374\n",
       "        z: 36.3245061179\n",
       "      orientation: \n",
       "        x: 0.692781490105\n",
       "        y: -0.132074780169\n",
       "        z: -0.131354949914\n",
       "        w: 0.696681808909\n",
       "  uid_markers: \n",
       "    markers: \n",
       "      - \n",
       "        x: 670.710971111\n",
       "        y: 210.11152083\n",
       "        z: 37.4049779928\n",
       "      - \n",
       "        x: 711.720771162\n",
       "        y: 255.44177211\n",
       "        z: 35.5396095395\n",
       "      - \n",
       "        x: 679.788179319\n",
       "        y: 260.168565594\n",
       "        z: 36.033298977\n",
       "  id_marker_sets: \n",
       "    - \n",
       "      markers: \n",
       "        - \n",
       "          x: 670.626261298\n",
       "          y: 210.003340096\n",
       "          z: 37.4091815189\n",
       "        - \n",
       "          x: 679.749316804\n",
       "          y: 260.188997153\n",
       "          z: 36.0335486338\n",
       "        - \n",
       "          x: 711.981134098\n",
       "          y: 255.603438736\n",
       "          z: 35.5307891229\n",
       "ret: 1\n",
       "msg: OK."
      ]
     },
     "execution_count": 4,
     "metadata": {},
     "output_type": "execute_result"
    }
   ],
   "source": [
    "get_mocap_frame()"
   ]
  },
  {
   "cell_type": "code",
   "execution_count": 5,
   "metadata": {
    "collapsed": false
   },
   "outputs": [
    {
     "data": {
      "text/plain": [
       "x: 600.0\n",
       "y: 0.01\n",
       "z: 25.0\n",
       "q0: 1.0\n",
       "qx: 0.0\n",
       "qy: 0.0\n",
       "qz: 0.0001\n",
       "ret: 1\n",
       "msg: ROBOT_CONTROLLER: OK."
      ]
     },
     "execution_count": 5,
     "metadata": {},
     "output_type": "execute_result"
    }
   ],
   "source": [
    "set_work_object(0,0,0,1,0,0,0)\n",
    "set_tool(-100,0,110, 0, 0, 1, 0)\n",
    "get_cart()"
   ]
  },
  {
   "cell_type": "code",
   "execution_count": 22,
   "metadata": {
    "collapsed": false
   },
   "outputs": [
    {
     "data": {
      "text/plain": [
       "ret: 1\n",
       "msg: ROBOT_CONTROLLER: OK."
      ]
     },
     "execution_count": 22,
     "metadata": {},
     "output_type": "execute_result"
    }
   ],
   "source": [
    "set_cart(600, 0, 20, 1, 0, 0, 0)"
   ]
  },
  {
   "cell_type": "code",
   "execution_count": 15,
   "metadata": {
    "collapsed": false
   },
   "outputs": [],
   "source": [
    "set_speed(3,5)\n",
    "#p = subprocess.Popen(\"rosbag record -O test.bag /Mocap /netft_data\");"
   ]
  },
  {
   "cell_type": "code",
   "execution_count": null,
   "metadata": {
    "collapsed": true
   },
   "outputs": [],
   "source": []
  },
  {
   "cell_type": "code",
   "execution_count": 23,
   "metadata": {
    "collapsed": false
   },
   "outputs": [],
   "source": [
    "f1 = open(\"pos5.txt\", \"w\");\n",
    "f2 = open(\"force5.txt\", \"w\");\n",
    "f3 = open(\"robot5.txt\", \"w\");\n",
    "bag = rosbag.Bag('robot_push_5.bag')\n",
    "last_topic = '/netft_data'\n",
    "ct = 0\n",
    "last_pos_x = 0\n",
    "last_pos_y = 0\n",
    "pose = geometry_msgs.msg.Pose()\n",
    "force = geometry_msgs.msg.Wrench.force\n",
    "for topic, msg, t in bag.read_messages(topics=['/Mocap', '/netft_data', '/robot_CartesianLog']):\n",
    "    s = str(t.to_sec()) + '\\n'\n",
    "    if topic == '/Mocap':\n",
    "        pos = msg.body_poses[0].position\n",
    "        ori = msg.body_poses[0].orientation    \n",
    "        s = s + str(pos.x) + ' ' + str(pos.y) + ' ' + str(pos.z) + ' '\n",
    "        s = s + str(ori.w) + ' ' + str(ori.x) + ' ' + str(ori.y) + ' ' + str(ori.z)\n",
    "        s = s + '\\n'\n",
    "        f1.write(s);  \n",
    "    if topic == '/netft_data':\n",
    "        force = msg.wrench.force\n",
    "        s = s + str(force.x) + ' ' + str(force.y) + ' ' + str(force.z)\n",
    "        s = s + '\\n'\n",
    "        f2.write(s)\n",
    "    if topic == '/robot_CartesianLog':\n",
    "        robot_cart = msg\n",
    "        s = s + str(robot_cart.x) + ' ' + str(robot_cart.y) + ' ' + str(robot_cart.z) + ' '\n",
    "        s = s + str(robot_cart.q0) + ' ' + str(robot_cart.qx) + ' ' + str(robot_cart.qy) + ' ' + str(robot_cart.qz)\n",
    "        s = s + '\\n'\n",
    "        f3.write(s)\n",
    "#     if topic == '/Mocap' and last_topic == '/netft_data':\n",
    "#         pos = msg.body_poses[0].position\n",
    "#         ori = msg.body_poses[0].orientation    \n",
    "#         s = str(pos.x) + ' ' + str(pos.y) + ' ' + str(pos.z) + ' '\n",
    "#         s = s + str(ori.w) + ' ' + str(ori.x) + ' ' + str(ori.y) + ' ' + str(ori.z)\n",
    "#         s = s + '\\n'\n",
    "#         f1.write(s);  \n",
    "#     if topic == '/netft_data' and last_topic == '/Mocap':\n",
    "#         force = msg.wrench.force\n",
    "#         s = str(force.x) + ' ' + str(force.y) + ' ' + str(force.z)\n",
    "#         s = s + '\\n'\n",
    "#         f2.write(s)\n",
    "#     last_topic = topic\n",
    "bag.close()\n",
    "f1.close()\n",
    "f2.close()\n",
    "f3.close()"
   ]
  },
  {
   "cell_type": "code",
   "execution_count": 29,
   "metadata": {
    "collapsed": false
   },
   "outputs": [
    {
     "data": {
      "text/plain": [
       "x: 0.0\n",
       "y: 0.0\n",
       "z: 0.0"
      ]
     },
     "execution_count": 29,
     "metadata": {},
     "output_type": "execute_result"
    }
   ],
   "source": []
  },
  {
   "cell_type": "code",
   "execution_count": 3,
   "metadata": {
    "collapsed": false
   },
   "outputs": [],
   "source": [
    "# Just dump the raw mocap body data.\n",
    "f1 = open(\"mocap_pos_2.txt\", \"w\")\n",
    "bag = rosbag.Bag('test_human_push_2.bag')\n",
    "for topic, msg, t in bag.read_messages(topics=['/Mocap']):\n",
    "    if topic == '/Mocap':\n",
    "        pos = msg.body_poses[0].position\n",
    "        ori = msg.body_poses[0].orientation\n",
    "        s = str(t.to_sec()) + '\\n'\n",
    "        s = s + str(pos.x) + ' ' + str(pos.y) + ' ' + str(pos.z) + ' '\n",
    "        s = s + str(ori.w) + ' ' + str(ori.x) + ' ' + str(ori.y) + ' ' + str(ori.z)\n",
    "        s = s + '\\n'\n",
    "        f1.write(s);\n",
    "f1.close()"
   ]
  },
  {
   "cell_type": "code",
   "execution_count": 199,
   "metadata": {
    "collapsed": false
   },
   "outputs": [
    {
     "data": {
      "text/plain": [
       "1429908519.3448133"
      ]
     },
     "execution_count": 199,
     "metadata": {},
     "output_type": "execute_result"
    }
   ],
   "source": [
    "t.to_sec()"
   ]
  },
  {
   "cell_type": "code",
   "execution_count": 122,
   "metadata": {
    "collapsed": true
   },
   "outputs": [],
   "source": [
    "set_tool(-100, 0, 110, 0, 0, 1, 0);\n"
   ]
  },
  {
   "cell_type": "code",
   "execution_count": 121,
   "metadata": {
    "collapsed": false
   },
   "outputs": [
    {
     "data": {
      "text/plain": [
       "x: 549.99\n",
       "y: -99.97\n",
       "z: 375.0\n",
       "q0: 0.0\n",
       "qx: -0.7071\n",
       "qy: 0.7071\n",
       "qz: 0.0001\n",
       "ret: 1\n",
       "msg: ROBOT_CONTROLLER: OK."
      ]
     },
     "execution_count": 121,
     "metadata": {},
     "output_type": "execute_result"
    }
   ],
   "source": [
    "set_cart(550, -100, 375, 1, 0, 0, 0)"
   ]
  },
  {
   "cell_type": "code",
   "execution_count": 123,
   "metadata": {
    "collapsed": true
   },
   "outputs": [],
   "source": [
    "get_joints = rospy.ServiceProxy('/robot_GetJoints', robot_GetJoints)"
   ]
  },
  {
   "cell_type": "code",
   "execution_count": 124,
   "metadata": {
    "collapsed": false
   },
   "outputs": [
    {
     "data": {
      "text/plain": [
       "j1: 0.0\n",
       "j2: 20.55\n",
       "j3: 0.92\n",
       "j4: 0.01\n",
       "j5: 68.54\n",
       "j6: 90.0\n",
       "ret: 1\n",
       "msg: ROBOT_CONTROLLER: OK."
      ]
     },
     "execution_count": 124,
     "metadata": {},
     "output_type": "execute_result"
    }
   ],
   "source": [
    "get_joints()"
   ]
  },
  {
   "cell_type": "code",
   "execution_count": null,
   "metadata": {
    "collapsed": true
   },
   "outputs": [],
   "source": []
  }
 ],
 "metadata": {
  "kernelspec": {
   "display_name": "Python 2",
   "language": "python",
   "name": "python2"
  },
  "language_info": {
   "codemirror_mode": {
    "name": "ipython",
    "version": 2
   },
   "file_extension": ".py",
   "mimetype": "text/x-python",
   "name": "python",
   "nbconvert_exporter": "python",
   "pygments_lexer": "ipython2",
   "version": "2.7.3"
  }
 },
 "nbformat": 4,
 "nbformat_minor": 0
}
